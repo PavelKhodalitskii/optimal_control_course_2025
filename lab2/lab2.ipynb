{
 "cells": [
  {
   "cell_type": "code",
   "execution_count": null,
   "id": "21442352",
   "metadata": {},
   "outputs": [],
   "source": [
    "dt = 0.01"
   ]
  },
  {
   "cell_type": "code",
   "execution_count": null,
   "id": "61cf9361",
   "metadata": {},
   "outputs": [],
   "source": [
    "class ControlLink:\n",
    "    def __init__(self):\n",
    "        self.diverg_prev_val = 0\n",
    "\n",
    "    def calc_output(self, input_value):\n",
    "        diverg = input_value\n",
    "        angular_speed = (diverg - self.diverg_prev_val) / dt\n",
    "        self.diverg_prev_val = diverg\n",
    "        if angular_speed < 0:\n",
    "            return 1\n",
    "        return -1"
   ]
  },
  {
   "cell_type": "code",
   "execution_count": null,
   "id": "f9ec3cce",
   "metadata": {},
   "outputs": [],
   "source": [
    "class Sputnic:\n",
    "    def __init__(self, k):\n",
    "        self.k = k\n",
    "\n",
    "    def calc_output(self, input_value):\n",
    "        k_1 = dt * (x_2)\n",
    "        k_2 = dt * (x_2 + m_1 / 2)\n",
    "        k_3 = dt * (x_2 + m_2 / 2)\n",
    "        k_4 = dt * (x_2 + m_3)\n",
    "\n",
    "        x_1 += 1/6*(k_1 + 2 * k_2 + 2 * k_3 + k_4)  \n",
    "\n",
    "        m_1 = dt * (self.k * input_value)\n",
    "        m_2 = dt * (self.k * input_value)\n",
    "        m_3 = dt * (self.k * input_value)\n",
    "        m_4 = dt * (self.k * input_value)\n",
    "\n",
    "        x_2 += 1/6*(m_1 + 2*m_2 + 2*m_3 + m_4)\n",
    "\n",
    "        return x_1, x_2\n"
   ]
  },
  {
   "cell_type": "code",
   "execution_count": null,
   "id": "bd5147a8",
   "metadata": {},
   "outputs": [],
   "source": [
    "L = 40\n",
    "\n",
    "t = 0\n",
    "\n",
    "theta_start = 3.66519\n",
    "v = 0\n",
    "theta_result = 0\n",
    "\n",
    "control_link = ControlLink()\n",
    "sputnic = Sputnic(k=0.015)\n",
    "\n",
    "while (t < L):\n",
    "    mu_out = control_link()\n",
    "    t += dt"
   ]
  }
 ],
 "metadata": {
  "language_info": {
   "name": "python"
  }
 },
 "nbformat": 4,
 "nbformat_minor": 5
}
