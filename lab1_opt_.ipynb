{
 "cells": [
  {
   "cell_type": "code",
   "execution_count": 45,
   "metadata": {},
   "outputs": [],
   "source": [
    "import matplotlib.pyplot as plt"
   ]
  },
  {
   "cell_type": "code",
   "execution_count": 46,
   "metadata": {},
   "outputs": [],
   "source": [
    "g = 1\n",
    "y = []"
   ]
  },
  {
   "cell_type": "code",
   "execution_count": 47,
   "metadata": {},
   "outputs": [],
   "source": [
    "# Константы\n",
    "T = 40\n",
    "T_ob = 1\n",
    "Xi = 0.75\n",
    "K_ob = 1\n",
    "dt = 0.01\n",
    "\n",
    "y_2 = 0\n",
    "y_1 = 0"
   ]
  },
  {
   "cell_type": "code",
   "execution_count": null,
   "metadata": {},
   "outputs": [],
   "source": [
    "def w_ob_calc(input):\n",
    "    k_1 = dt * (y_2)\n",
    "    m_1 = dt * ((-2*Xi/T_ob)*y_2 - 1/(T_ob**2)*y_1 + K_ob/T_ob*input)\n",
    "    k_2 = dt * (y_2 + k_1 / 2)\n",
    "    m_2 = dt * ((-2*Xi/T_ob)*(y_2 + m_1/2)  - 1/(T_ob**2)*(y_1 + k_1/2) + K_ob/T_ob*input)\n",
    "    k_3 = dt * (y_2 + k_2 / 2)\n",
    "    m_3 = dt * ((-2*Xi/T_ob)*(y_2 + m_2/2)  - 1/(T_ob**2)*(y_1 + k_2/2) + K_ob/T_ob*input)\n",
    "    k_4 = dt * (y_2 + k_3)\n",
    "    m_4 = dt * ((-2*Xi/T_ob)*(y_2 + m_3)  - 1/(T_ob**2)*(y_1 + k_3) + K_ob/T_ob*input)\n",
    "\n",
    "    y_1 = y_1 + (1/6) * (k_1 + 2*k_2 + 2*k_3 + k_4)\n",
    "    y_2 = y_2 + (1/6) * (m_1 + 2*m_2 + 2*m_3 + m_4)"
   ]
  },
  {
   "cell_type": "code",
   "execution_count": 49,
   "metadata": {},
   "outputs": [],
   "source": [
    "t_vals = []\n",
    "t = 0\n",
    "while t < T:\n",
    "    w_ob_calc(g, y_1, y_2)\n",
    "    y.append(y_1)\n",
    "    t_vals.append(t)\n",
    "    t += dt"
   ]
  },
  {
   "cell_type": "code",
   "execution_count": 50,
   "metadata": {},
   "outputs": [
    {
     "data": {
      "text/plain": [
       "[<matplotlib.lines.Line2D at 0x7ff5047534f0>]"
      ]
     },
     "execution_count": 50,
     "metadata": {},
     "output_type": "execute_result"
    },
    {
     "data": {
      "image/png": "[encoded data removed]",
      "text/plain": [
       "<Figure size 640x480 with 1 Axes>"
      ]
     },
     "metadata": {},
     "output_type": "display_data"
    }
   ],
   "source": [
    "plt.plot(t_vals, y)"
   ]
  }
 ],
 "metadata": {
  "kernelspec": {
   "display_name": "lab1_venv",
   "language": "python",
   "name": "python3"
  },
  "language_info": {
   "codemirror_mode": {
    "name": "ipython",
    "version": 3
   },
   "file_extension": ".py",
   "mimetype": "text/x-python",
   "name": "python",
   "nbconvert_exporter": "python",
   "pygments_lexer": "ipython3",
   "version": "3.10.12"
  }
 },
 "nbformat": 4,
 "nbformat_minor": 2
}
